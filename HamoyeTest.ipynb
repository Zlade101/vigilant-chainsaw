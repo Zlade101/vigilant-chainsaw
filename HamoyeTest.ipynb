{
  "nbformat": 4,
  "nbformat_minor": 0,
  "metadata": {
    "colab": {
      "name": "HamoyeTest.ipynb",
      "provenance": [],
      "authorship_tag": "ABX9TyMd5veaVjJyqFjl0eb7PeRb",
      "include_colab_link": true
    },
    "kernelspec": {
      "name": "python3",
      "display_name": "Python 3"
    },
    "language_info": {
      "name": "python"
    }
  },
  "cells": [
    {
      "cell_type": "markdown",
      "metadata": {
        "id": "view-in-github",
        "colab_type": "text"
      },
      "source": [
        "<a href=\"https://colab.research.google.com/github/Zlade101/vigilant-chainsaw/blob/master/HamoyeTest.ipynb\" target=\"_parent\"><img src=\"https://colab.research.google.com/assets/colab-badge.svg\" alt=\"Open In Colab\"/></a>"
      ]
    },
    {
      "cell_type": "code",
      "metadata": {
        "id": "awnApDEa0Dlf"
      },
      "source": [
        "#import python libraries\n",
        "import numpy as np\n",
        "import pandas as pd\n",
        "import matplotlib.pyplot as plt\n",
        "import seaborn as sns"
      ],
      "execution_count": 2,
      "outputs": []
    },
    {
      "cell_type": "code",
      "metadata": {
        "id": "YgpGuiNCzH5W"
      },
      "source": [
        "#import dataset\n",
        "df_csv = pd.read_csv('https://raw.githubusercontent.com/WalePhenomenon/climate_change/master/fuel_ferc1.csv')"
      ],
      "execution_count": 3,
      "outputs": []
    },
    {
      "cell_type": "code",
      "metadata": {
        "colab": {
          "base_uri": "https://localhost:8080/",
          "height": 405
        },
        "id": "rzPoh_yp0Wqm",
        "outputId": "68a93108-9531-45db-a2d2-6015ea109d88"
      },
      "source": [
        "#get a general description/info on the imported dataset\n",
        "df_csv.describe(include='all')"
      ],
      "execution_count": 4,
      "outputs": [
        {
          "output_type": "execute_result",
          "data": {
            "text/html": [
              "<div>\n",
              "<style scoped>\n",
              "    .dataframe tbody tr th:only-of-type {\n",
              "        vertical-align: middle;\n",
              "    }\n",
              "\n",
              "    .dataframe tbody tr th {\n",
              "        vertical-align: top;\n",
              "    }\n",
              "\n",
              "    .dataframe thead th {\n",
              "        text-align: right;\n",
              "    }\n",
              "</style>\n",
              "<table border=\"1\" class=\"dataframe\">\n",
              "  <thead>\n",
              "    <tr style=\"text-align: right;\">\n",
              "      <th></th>\n",
              "      <th>record_id</th>\n",
              "      <th>utility_id_ferc1</th>\n",
              "      <th>report_year</th>\n",
              "      <th>plant_name_ferc1</th>\n",
              "      <th>fuel_type_code_pudl</th>\n",
              "      <th>fuel_unit</th>\n",
              "      <th>fuel_qty_burned</th>\n",
              "      <th>fuel_mmbtu_per_unit</th>\n",
              "      <th>fuel_cost_per_unit_burned</th>\n",
              "      <th>fuel_cost_per_unit_delivered</th>\n",
              "      <th>fuel_cost_per_mmbtu</th>\n",
              "    </tr>\n",
              "  </thead>\n",
              "  <tbody>\n",
              "    <tr>\n",
              "      <th>count</th>\n",
              "      <td>29523</td>\n",
              "      <td>29523.000000</td>\n",
              "      <td>29523.000000</td>\n",
              "      <td>29523</td>\n",
              "      <td>29523</td>\n",
              "      <td>29343</td>\n",
              "      <td>2.952300e+04</td>\n",
              "      <td>29523.000000</td>\n",
              "      <td>29523.000000</td>\n",
              "      <td>2.952300e+04</td>\n",
              "      <td>29523.000000</td>\n",
              "    </tr>\n",
              "    <tr>\n",
              "      <th>unique</th>\n",
              "      <td>29523</td>\n",
              "      <td>NaN</td>\n",
              "      <td>NaN</td>\n",
              "      <td>2315</td>\n",
              "      <td>6</td>\n",
              "      <td>9</td>\n",
              "      <td>NaN</td>\n",
              "      <td>NaN</td>\n",
              "      <td>NaN</td>\n",
              "      <td>NaN</td>\n",
              "      <td>NaN</td>\n",
              "    </tr>\n",
              "    <tr>\n",
              "      <th>top</th>\n",
              "      <td>f1_fuel_2004_12_88_0_14</td>\n",
              "      <td>NaN</td>\n",
              "      <td>NaN</td>\n",
              "      <td>big stone</td>\n",
              "      <td>gas</td>\n",
              "      <td>mcf</td>\n",
              "      <td>NaN</td>\n",
              "      <td>NaN</td>\n",
              "      <td>NaN</td>\n",
              "      <td>NaN</td>\n",
              "      <td>NaN</td>\n",
              "    </tr>\n",
              "    <tr>\n",
              "      <th>freq</th>\n",
              "      <td>1</td>\n",
              "      <td>NaN</td>\n",
              "      <td>NaN</td>\n",
              "      <td>156</td>\n",
              "      <td>11486</td>\n",
              "      <td>11354</td>\n",
              "      <td>NaN</td>\n",
              "      <td>NaN</td>\n",
              "      <td>NaN</td>\n",
              "      <td>NaN</td>\n",
              "      <td>NaN</td>\n",
              "    </tr>\n",
              "    <tr>\n",
              "      <th>mean</th>\n",
              "      <td>NaN</td>\n",
              "      <td>118.601836</td>\n",
              "      <td>2005.806050</td>\n",
              "      <td>NaN</td>\n",
              "      <td>NaN</td>\n",
              "      <td>NaN</td>\n",
              "      <td>2.622119e+06</td>\n",
              "      <td>8.492111</td>\n",
              "      <td>208.649031</td>\n",
              "      <td>9.175704e+02</td>\n",
              "      <td>19.304354</td>\n",
              "    </tr>\n",
              "    <tr>\n",
              "      <th>std</th>\n",
              "      <td>NaN</td>\n",
              "      <td>74.178353</td>\n",
              "      <td>7.025483</td>\n",
              "      <td>NaN</td>\n",
              "      <td>NaN</td>\n",
              "      <td>NaN</td>\n",
              "      <td>9.118004e+06</td>\n",
              "      <td>10.600220</td>\n",
              "      <td>2854.490090</td>\n",
              "      <td>6.877593e+04</td>\n",
              "      <td>2091.540939</td>\n",
              "    </tr>\n",
              "    <tr>\n",
              "      <th>min</th>\n",
              "      <td>NaN</td>\n",
              "      <td>1.000000</td>\n",
              "      <td>1994.000000</td>\n",
              "      <td>NaN</td>\n",
              "      <td>NaN</td>\n",
              "      <td>NaN</td>\n",
              "      <td>1.000000e+00</td>\n",
              "      <td>0.000001</td>\n",
              "      <td>-276.080000</td>\n",
              "      <td>-8.749370e+02</td>\n",
              "      <td>-41.501000</td>\n",
              "    </tr>\n",
              "    <tr>\n",
              "      <th>25%</th>\n",
              "      <td>NaN</td>\n",
              "      <td>55.000000</td>\n",
              "      <td>2000.000000</td>\n",
              "      <td>NaN</td>\n",
              "      <td>NaN</td>\n",
              "      <td>NaN</td>\n",
              "      <td>1.381700e+04</td>\n",
              "      <td>1.024000</td>\n",
              "      <td>5.207000</td>\n",
              "      <td>3.778500e+00</td>\n",
              "      <td>1.940000</td>\n",
              "    </tr>\n",
              "    <tr>\n",
              "      <th>50%</th>\n",
              "      <td>NaN</td>\n",
              "      <td>122.000000</td>\n",
              "      <td>2006.000000</td>\n",
              "      <td>NaN</td>\n",
              "      <td>NaN</td>\n",
              "      <td>NaN</td>\n",
              "      <td>2.533220e+05</td>\n",
              "      <td>5.762694</td>\n",
              "      <td>26.000000</td>\n",
              "      <td>1.737100e+01</td>\n",
              "      <td>4.127000</td>\n",
              "    </tr>\n",
              "    <tr>\n",
              "      <th>75%</th>\n",
              "      <td>NaN</td>\n",
              "      <td>176.000000</td>\n",
              "      <td>2012.000000</td>\n",
              "      <td>NaN</td>\n",
              "      <td>NaN</td>\n",
              "      <td>NaN</td>\n",
              "      <td>1.424034e+06</td>\n",
              "      <td>17.006000</td>\n",
              "      <td>47.113000</td>\n",
              "      <td>4.213700e+01</td>\n",
              "      <td>7.745000</td>\n",
              "    </tr>\n",
              "    <tr>\n",
              "      <th>max</th>\n",
              "      <td>NaN</td>\n",
              "      <td>514.000000</td>\n",
              "      <td>2018.000000</td>\n",
              "      <td>NaN</td>\n",
              "      <td>NaN</td>\n",
              "      <td>NaN</td>\n",
              "      <td>5.558942e+08</td>\n",
              "      <td>341.260000</td>\n",
              "      <td>139358.000000</td>\n",
              "      <td>7.964521e+06</td>\n",
              "      <td>359278.000000</td>\n",
              "    </tr>\n",
              "  </tbody>\n",
              "</table>\n",
              "</div>"
            ],
            "text/plain": [
              "                      record_id  ...  fuel_cost_per_mmbtu\n",
              "count                     29523  ...         29523.000000\n",
              "unique                    29523  ...                  NaN\n",
              "top     f1_fuel_2004_12_88_0_14  ...                  NaN\n",
              "freq                          1  ...                  NaN\n",
              "mean                        NaN  ...            19.304354\n",
              "std                         NaN  ...          2091.540939\n",
              "min                         NaN  ...           -41.501000\n",
              "25%                         NaN  ...             1.940000\n",
              "50%                         NaN  ...             4.127000\n",
              "75%                         NaN  ...             7.745000\n",
              "max                         NaN  ...        359278.000000\n",
              "\n",
              "[11 rows x 11 columns]"
            ]
          },
          "metadata": {},
          "execution_count": 4
        }
      ]
    },
    {
      "cell_type": "code",
      "metadata": {
        "colab": {
          "base_uri": "https://localhost:8080/"
        },
        "id": "8o329nid0iKK",
        "outputId": "d682c7e6-2a41-4bf2-d1f0-18e120d40642"
      },
      "source": [
        "#check or null or missing data\n",
        "df_csv.isnull().sum()"
      ],
      "execution_count": 5,
      "outputs": [
        {
          "output_type": "execute_result",
          "data": {
            "text/plain": [
              "record_id                         0\n",
              "utility_id_ferc1                  0\n",
              "report_year                       0\n",
              "plant_name_ferc1                  0\n",
              "fuel_type_code_pudl               0\n",
              "fuel_unit                       180\n",
              "fuel_qty_burned                   0\n",
              "fuel_mmbtu_per_unit               0\n",
              "fuel_cost_per_unit_burned         0\n",
              "fuel_cost_per_unit_delivered      0\n",
              "fuel_cost_per_mmbtu               0\n",
              "dtype: int64"
            ]
          },
          "metadata": {},
          "execution_count": 5
        }
      ]
    },
    {
      "cell_type": "code",
      "metadata": {
        "colab": {
          "base_uri": "https://localhost:8080/",
          "height": 222
        },
        "id": "EuB6zecd0uvg",
        "outputId": "5e27aeac-ca82-4bcb-b5f7-f3fe7d4aeb35"
      },
      "source": [
        "df_csv.head()"
      ],
      "execution_count": 7,
      "outputs": [
        {
          "output_type": "execute_result",
          "data": {
            "text/html": [
              "<div>\n",
              "<style scoped>\n",
              "    .dataframe tbody tr th:only-of-type {\n",
              "        vertical-align: middle;\n",
              "    }\n",
              "\n",
              "    .dataframe tbody tr th {\n",
              "        vertical-align: top;\n",
              "    }\n",
              "\n",
              "    .dataframe thead th {\n",
              "        text-align: right;\n",
              "    }\n",
              "</style>\n",
              "<table border=\"1\" class=\"dataframe\">\n",
              "  <thead>\n",
              "    <tr style=\"text-align: right;\">\n",
              "      <th></th>\n",
              "      <th>record_id</th>\n",
              "      <th>utility_id_ferc1</th>\n",
              "      <th>report_year</th>\n",
              "      <th>plant_name_ferc1</th>\n",
              "      <th>fuel_type_code_pudl</th>\n",
              "      <th>fuel_unit</th>\n",
              "      <th>fuel_qty_burned</th>\n",
              "      <th>fuel_mmbtu_per_unit</th>\n",
              "      <th>fuel_cost_per_unit_burned</th>\n",
              "      <th>fuel_cost_per_unit_delivered</th>\n",
              "      <th>fuel_cost_per_mmbtu</th>\n",
              "    </tr>\n",
              "  </thead>\n",
              "  <tbody>\n",
              "    <tr>\n",
              "      <th>0</th>\n",
              "      <td>f1_fuel_1994_12_1_0_7</td>\n",
              "      <td>1</td>\n",
              "      <td>1994</td>\n",
              "      <td>rockport</td>\n",
              "      <td>coal</td>\n",
              "      <td>ton</td>\n",
              "      <td>5377489.0</td>\n",
              "      <td>16.590</td>\n",
              "      <td>18.59</td>\n",
              "      <td>18.53</td>\n",
              "      <td>1.121</td>\n",
              "    </tr>\n",
              "    <tr>\n",
              "      <th>1</th>\n",
              "      <td>f1_fuel_1994_12_1_0_10</td>\n",
              "      <td>1</td>\n",
              "      <td>1994</td>\n",
              "      <td>rockport total plant</td>\n",
              "      <td>coal</td>\n",
              "      <td>ton</td>\n",
              "      <td>10486945.0</td>\n",
              "      <td>16.592</td>\n",
              "      <td>18.58</td>\n",
              "      <td>18.53</td>\n",
              "      <td>1.120</td>\n",
              "    </tr>\n",
              "    <tr>\n",
              "      <th>2</th>\n",
              "      <td>f1_fuel_1994_12_2_0_1</td>\n",
              "      <td>2</td>\n",
              "      <td>1994</td>\n",
              "      <td>gorgas</td>\n",
              "      <td>coal</td>\n",
              "      <td>ton</td>\n",
              "      <td>2978683.0</td>\n",
              "      <td>24.130</td>\n",
              "      <td>39.72</td>\n",
              "      <td>38.12</td>\n",
              "      <td>1.650</td>\n",
              "    </tr>\n",
              "    <tr>\n",
              "      <th>3</th>\n",
              "      <td>f1_fuel_1994_12_2_0_7</td>\n",
              "      <td>2</td>\n",
              "      <td>1994</td>\n",
              "      <td>barry</td>\n",
              "      <td>coal</td>\n",
              "      <td>ton</td>\n",
              "      <td>3739484.0</td>\n",
              "      <td>23.950</td>\n",
              "      <td>47.21</td>\n",
              "      <td>45.99</td>\n",
              "      <td>1.970</td>\n",
              "    </tr>\n",
              "    <tr>\n",
              "      <th>4</th>\n",
              "      <td>f1_fuel_1994_12_2_0_10</td>\n",
              "      <td>2</td>\n",
              "      <td>1994</td>\n",
              "      <td>chickasaw</td>\n",
              "      <td>gas</td>\n",
              "      <td>mcf</td>\n",
              "      <td>40533.0</td>\n",
              "      <td>1.000</td>\n",
              "      <td>2.77</td>\n",
              "      <td>2.77</td>\n",
              "      <td>2.570</td>\n",
              "    </tr>\n",
              "  </tbody>\n",
              "</table>\n",
              "</div>"
            ],
            "text/plain": [
              "                record_id  ...  fuel_cost_per_mmbtu\n",
              "0   f1_fuel_1994_12_1_0_7  ...                1.121\n",
              "1  f1_fuel_1994_12_1_0_10  ...                1.120\n",
              "2   f1_fuel_1994_12_2_0_1  ...                1.650\n",
              "3   f1_fuel_1994_12_2_0_7  ...                1.970\n",
              "4  f1_fuel_1994_12_2_0_10  ...                2.570\n",
              "\n",
              "[5 rows x 11 columns]"
            ]
          },
          "metadata": {},
          "execution_count": 7
        }
      ]
    },
    {
      "cell_type": "code",
      "metadata": {
        "colab": {
          "base_uri": "https://localhost:8080/"
        },
        "id": "FBHe7gGK4t9v",
        "outputId": "16c979a1-5be0-4c97-ba73-482eeec2b879"
      },
      "source": [
        "np.identity(3)"
      ],
      "execution_count": 17,
      "outputs": [
        {
          "output_type": "execute_result",
          "data": {
            "text/plain": [
              "array([[1., 0., 0.],\n",
              "       [0., 1., 0.],\n",
              "       [0., 0., 1.]])"
            ]
          },
          "metadata": {},
          "execution_count": 17
        }
      ]
    },
    {
      "cell_type": "code",
      "metadata": {
        "colab": {
          "base_uri": "https://localhost:8080/"
        },
        "id": "Ic4ff-M65s9F",
        "outputId": "f760ea6b-4f17-424c-c544-785f4c595b57"
      },
      "source": [
        "df_csv.groupby('fuel_type_code_pudl')['fuel_cost_per_unit_burned'].mean()"
      ],
      "execution_count": 22,
      "outputs": [
        {
          "output_type": "execute_result",
          "data": {
            "text/plain": [
              "fuel_type_code_pudl\n",
              "coal         67.421830\n",
              "gas          13.659397\n",
              "nuclear    4955.157002\n",
              "oil         168.877086\n",
              "other        18.253856\n",
              "waste        19.518122\n",
              "Name: fuel_cost_per_unit_burned, dtype: float64"
            ]
          },
          "metadata": {},
          "execution_count": 22
        }
      ]
    },
    {
      "cell_type": "code",
      "metadata": {
        "colab": {
          "base_uri": "https://localhost:8080/"
        },
        "id": "3vLwxjgo6Cl2",
        "outputId": "4c86621c-d1f7-4605-c67c-87679daef713"
      },
      "source": [
        "df_csv['fuel_mmbtu_per_unit'].std()"
      ],
      "execution_count": 23,
      "outputs": [
        {
          "output_type": "execute_result",
          "data": {
            "text/plain": [
              "10.600220307806886"
            ]
          },
          "metadata": {},
          "execution_count": 23
        }
      ]
    },
    {
      "cell_type": "code",
      "metadata": {
        "colab": {
          "base_uri": "https://localhost:8080/"
        },
        "id": "UBiAUojn82OW",
        "outputId": "eb1412a1-6869-497e-9d8c-3ee93eb01afb"
      },
      "source": [
        "np.percentile(df_csv['fuel_mmbtu_per_unit'], 75)"
      ],
      "execution_count": 24,
      "outputs": [
        {
          "output_type": "execute_result",
          "data": {
            "text/plain": [
              "17.006"
            ]
          },
          "metadata": {},
          "execution_count": 24
        }
      ]
    },
    {
      "cell_type": "code",
      "metadata": {
        "colab": {
          "base_uri": "https://localhost:8080/"
        },
        "id": "BsFLALmo9eKW",
        "outputId": "02c70444-c478-445c-9d07-10ef1faa1735"
      },
      "source": [
        "from scipy.stats import kurtosis\n",
        "from scipy.stats import skew\n",
        "skew(df_csv['fuel_qty_burned'], bias=False)"
      ],
      "execution_count": 26,
      "outputs": [
        {
          "output_type": "execute_result",
          "data": {
            "text/plain": [
              "15.8514954691095"
            ]
          },
          "metadata": {},
          "execution_count": 26
        }
      ]
    },
    {
      "cell_type": "code",
      "metadata": {
        "colab": {
          "base_uri": "https://localhost:8080/"
        },
        "id": "MMQlDWlN-Ck1",
        "outputId": "72cce20c-e8db-4b26-a8d4-8bea12ccbed8"
      },
      "source": [
        "kurtosis(df_csv['fuel_qty_burned'], bias=False)"
      ],
      "execution_count": 27,
      "outputs": [
        {
          "output_type": "execute_result",
          "data": {
            "text/plain": [
              "651.3694501337731"
            ]
          },
          "metadata": {},
          "execution_count": 27
        }
      ]
    },
    {
      "cell_type": "code",
      "metadata": {
        "colab": {
          "base_uri": "https://localhost:8080/"
        },
        "id": "asZA6y_0-mq3",
        "outputId": "831fcff4-abe9-47b6-ee51-f90ca6753bd9"
      },
      "source": [
        "df_csv.dtypes == 'object'"
      ],
      "execution_count": 29,
      "outputs": [
        {
          "output_type": "execute_result",
          "data": {
            "text/plain": [
              "record_id                        True\n",
              "utility_id_ferc1                False\n",
              "report_year                     False\n",
              "plant_name_ferc1                 True\n",
              "fuel_type_code_pudl              True\n",
              "fuel_unit                        True\n",
              "fuel_qty_burned                 False\n",
              "fuel_mmbtu_per_unit             False\n",
              "fuel_cost_per_unit_burned       False\n",
              "fuel_cost_per_unit_delivered    False\n",
              "fuel_cost_per_mmbtu             False\n",
              "dtype: bool"
            ]
          },
          "metadata": {},
          "execution_count": 29
        }
      ]
    },
    {
      "cell_type": "code",
      "metadata": {
        "id": "ReKnvw9B_gsQ"
      },
      "source": [
        "numVar = df_csv.columns[df_csv.dtypes != 'object']\n",
        "catVar = df_csv.columns[df_csv.dtypes == 'object']"
      ],
      "execution_count": 30,
      "outputs": []
    },
    {
      "cell_type": "code",
      "metadata": {
        "colab": {
          "base_uri": "https://localhost:8080/"
        },
        "id": "9cZFdcBJAGbg",
        "outputId": "350e7ae7-cc18-4593-bb46-6bd6c1881c19"
      },
      "source": [
        "df_csv[numVar].isnull().sum()"
      ],
      "execution_count": 32,
      "outputs": [
        {
          "output_type": "execute_result",
          "data": {
            "text/plain": [
              "utility_id_ferc1                0\n",
              "report_year                     0\n",
              "fuel_qty_burned                 0\n",
              "fuel_mmbtu_per_unit             0\n",
              "fuel_cost_per_unit_burned       0\n",
              "fuel_cost_per_unit_delivered    0\n",
              "fuel_cost_per_mmbtu             0\n",
              "dtype: int64"
            ]
          },
          "metadata": {},
          "execution_count": 32
        }
      ]
    },
    {
      "cell_type": "code",
      "metadata": {
        "colab": {
          "base_uri": "https://localhost:8080/"
        },
        "id": "UfnYWVCmAVTa",
        "outputId": "0495f3a8-6676-4779-907b-09b774d61335"
      },
      "source": [
        "df_csv[catVar].isnull().sum()"
      ],
      "execution_count": 45,
      "outputs": [
        {
          "output_type": "execute_result",
          "data": {
            "text/plain": [
              "record_id                0\n",
              "plant_name_ferc1         0\n",
              "fuel_type_code_pudl      0\n",
              "fuel_unit              180\n",
              "dtype: int64"
            ]
          },
          "metadata": {},
          "execution_count": 45
        }
      ]
    },
    {
      "cell_type": "code",
      "metadata": {
        "colab": {
          "base_uri": "https://localhost:8080/",
          "height": 263
        },
        "id": "QlNxnHLlAeti",
        "outputId": "0525f273-9248-44f2-e7a7-8d3d028e8fa5"
      },
      "source": [
        "df_csv.corr()"
      ],
      "execution_count": 34,
      "outputs": [
        {
          "output_type": "execute_result",
          "data": {
            "text/html": [
              "<div>\n",
              "<style scoped>\n",
              "    .dataframe tbody tr th:only-of-type {\n",
              "        vertical-align: middle;\n",
              "    }\n",
              "\n",
              "    .dataframe tbody tr th {\n",
              "        vertical-align: top;\n",
              "    }\n",
              "\n",
              "    .dataframe thead th {\n",
              "        text-align: right;\n",
              "    }\n",
              "</style>\n",
              "<table border=\"1\" class=\"dataframe\">\n",
              "  <thead>\n",
              "    <tr style=\"text-align: right;\">\n",
              "      <th></th>\n",
              "      <th>utility_id_ferc1</th>\n",
              "      <th>report_year</th>\n",
              "      <th>fuel_qty_burned</th>\n",
              "      <th>fuel_mmbtu_per_unit</th>\n",
              "      <th>fuel_cost_per_unit_burned</th>\n",
              "      <th>fuel_cost_per_unit_delivered</th>\n",
              "      <th>fuel_cost_per_mmbtu</th>\n",
              "    </tr>\n",
              "  </thead>\n",
              "  <tbody>\n",
              "    <tr>\n",
              "      <th>utility_id_ferc1</th>\n",
              "      <td>1.000000</td>\n",
              "      <td>0.093323</td>\n",
              "      <td>-0.057447</td>\n",
              "      <td>-0.066946</td>\n",
              "      <td>-0.037863</td>\n",
              "      <td>-0.016414</td>\n",
              "      <td>0.006122</td>\n",
              "    </tr>\n",
              "    <tr>\n",
              "      <th>report_year</th>\n",
              "      <td>0.093323</td>\n",
              "      <td>1.000000</td>\n",
              "      <td>0.012952</td>\n",
              "      <td>-0.110853</td>\n",
              "      <td>0.013599</td>\n",
              "      <td>-0.014043</td>\n",
              "      <td>0.010261</td>\n",
              "    </tr>\n",
              "    <tr>\n",
              "      <th>fuel_qty_burned</th>\n",
              "      <td>-0.057447</td>\n",
              "      <td>0.012952</td>\n",
              "      <td>1.000000</td>\n",
              "      <td>-0.080946</td>\n",
              "      <td>-0.018535</td>\n",
              "      <td>-0.003551</td>\n",
              "      <td>-0.001896</td>\n",
              "    </tr>\n",
              "    <tr>\n",
              "      <th>fuel_mmbtu_per_unit</th>\n",
              "      <td>-0.066946</td>\n",
              "      <td>-0.110853</td>\n",
              "      <td>-0.080946</td>\n",
              "      <td>1.000000</td>\n",
              "      <td>-0.010034</td>\n",
              "      <td>-0.009039</td>\n",
              "      <td>-0.005884</td>\n",
              "    </tr>\n",
              "    <tr>\n",
              "      <th>fuel_cost_per_unit_burned</th>\n",
              "      <td>-0.037863</td>\n",
              "      <td>0.013599</td>\n",
              "      <td>-0.018535</td>\n",
              "      <td>-0.010034</td>\n",
              "      <td>1.000000</td>\n",
              "      <td>0.011007</td>\n",
              "      <td>-0.000437</td>\n",
              "    </tr>\n",
              "    <tr>\n",
              "      <th>fuel_cost_per_unit_delivered</th>\n",
              "      <td>-0.016414</td>\n",
              "      <td>-0.014043</td>\n",
              "      <td>-0.003551</td>\n",
              "      <td>-0.009039</td>\n",
              "      <td>0.011007</td>\n",
              "      <td>1.000000</td>\n",
              "      <td>-0.000109</td>\n",
              "    </tr>\n",
              "    <tr>\n",
              "      <th>fuel_cost_per_mmbtu</th>\n",
              "      <td>0.006122</td>\n",
              "      <td>0.010261</td>\n",
              "      <td>-0.001896</td>\n",
              "      <td>-0.005884</td>\n",
              "      <td>-0.000437</td>\n",
              "      <td>-0.000109</td>\n",
              "      <td>1.000000</td>\n",
              "    </tr>\n",
              "  </tbody>\n",
              "</table>\n",
              "</div>"
            ],
            "text/plain": [
              "                              utility_id_ferc1  ...  fuel_cost_per_mmbtu\n",
              "utility_id_ferc1                      1.000000  ...             0.006122\n",
              "report_year                           0.093323  ...             0.010261\n",
              "fuel_qty_burned                      -0.057447  ...            -0.001896\n",
              "fuel_mmbtu_per_unit                  -0.066946  ...            -0.005884\n",
              "fuel_cost_per_unit_burned            -0.037863  ...            -0.000437\n",
              "fuel_cost_per_unit_delivered         -0.016414  ...            -0.000109\n",
              "fuel_cost_per_mmbtu                   0.006122  ...             1.000000\n",
              "\n",
              "[7 rows x 7 columns]"
            ]
          },
          "metadata": {},
          "execution_count": 34
        }
      ]
    },
    {
      "cell_type": "code",
      "metadata": {
        "id": "wBEpRekXDbcC"
      },
      "source": [
        "assert -0.037863 < -0.000437 > -0.018535 < -0.010034\t"
      ],
      "execution_count": 41,
      "outputs": []
    },
    {
      "cell_type": "code",
      "metadata": {
        "colab": {
          "base_uri": "https://localhost:8080/"
        },
        "id": "dUxq_uJKCA6l",
        "outputId": "adc01994-e587-4f92-d09d-b20e8122625d"
      },
      "source": [
        "df_csv.groupby('report_year')['fuel_cost_per_unit_delivered'].mean()"
      ],
      "execution_count": 35,
      "outputs": [
        {
          "output_type": "execute_result",
          "data": {
            "text/plain": [
              "report_year\n",
              "1994       63.636060\n",
              "1995       32.735269\n",
              "1996     9196.705948\n",
              "1997    11140.197239\n",
              "1998      287.154420\n",
              "1999       25.551627\n",
              "2000      985.362877\n",
              "2001       60.050396\n",
              "2002       47.594361\n",
              "2003       55.663493\n",
              "2004      139.524275\n",
              "2005       41.438184\n",
              "2006       38.657484\n",
              "2007       43.325023\n",
              "2008       58.588197\n",
              "2009      652.694163\n",
              "2010       91.862105\n",
              "2011       59.774667\n",
              "2012       60.994502\n",
              "2013      172.307591\n",
              "2014      192.737183\n",
              "2015      326.535511\n",
              "2016      103.901761\n",
              "2017       46.196861\n",
              "2018      499.269966\n",
              "Name: fuel_cost_per_unit_delivered, dtype: float64"
            ]
          },
          "metadata": {},
          "execution_count": 35
        }
      ]
    },
    {
      "cell_type": "code",
      "metadata": {
        "colab": {
          "base_uri": "https://localhost:8080/"
        },
        "id": "jPW8MuonD-pt",
        "outputId": "c29169f4-6003-4b6e-b613-6cd2f7fac68c"
      },
      "source": [
        "df_csv.groupby(['fuel_type_code_pudl', 'report_year'])['fuel_cost_per_unit_burned'].sum()"
      ],
      "execution_count": 49,
      "outputs": [
        {
          "output_type": "execute_result",
          "data": {
            "text/plain": [
              "fuel_type_code_pudl  report_year\n",
              "coal                 1994           14984.572\n",
              "                     1995           14571.785\n",
              "                     1996           12694.803\n",
              "                     1997           43742.178\n",
              "                     1998           11902.597\n",
              "                                      ...    \n",
              "waste                2014             591.594\n",
              "                     2015             629.270\n",
              "                     2016             539.079\n",
              "                     2017             452.079\n",
              "                     2018             660.972\n",
              "Name: fuel_cost_per_unit_burned, Length: 148, dtype: float64"
            ]
          },
          "metadata": {},
          "execution_count": 49
        }
      ]
    },
    {
      "cell_type": "code",
      "metadata": {
        "colab": {
          "base_uri": "https://localhost:8080/"
        },
        "id": "vJOrmefUFZSF",
        "outputId": "ec5c27bf-aa4a-49fa-83e5-e11abf1ebe8a"
      },
      "source": [
        "#percentage difference between 1994 to 1998 in fuel_cost_per_unit_burned for coal\n",
        "((11902.597 - 14984.572)/ 14984.572) * 100"
      ],
      "execution_count": 51,
      "outputs": [
        {
          "output_type": "execute_result",
          "data": {
            "text/plain": [
              "-20.567654518260518"
            ]
          },
          "metadata": {},
          "execution_count": 51
        }
      ]
    },
    {
      "cell_type": "code",
      "metadata": {
        "id": "4dKEfUG7Mjx5"
      },
      "source": [
        ""
      ],
      "execution_count": null,
      "outputs": []
    }
  ]
}